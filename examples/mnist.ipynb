{
 "cells": [
  {
   "cell_type": "code",
   "execution_count": 10,
   "metadata": {},
   "outputs": [],
   "source": [
    "# Libraries\n",
    "using WiSARD\n",
    "using DataFrames\n",
    "using BenchmarkTools\n",
    "import CSV"
   ]
  },
  {
   "cell_type": "code",
   "execution_count": 21,
   "metadata": {},
   "outputs": [
    {
     "data": {
      "text/plain": [
       "WNN[64 bits, 28 × 28]"
      ]
     },
     "execution_count": 21,
     "metadata": {},
     "output_type": "execute_result"
    }
   ],
   "source": [
    "wnn = WNN{UInt64}(28, 28)"
   ]
  },
  {
   "cell_type": "code",
   "execution_count": 3,
   "metadata": {},
   "outputs": [],
   "source": [
    "# Retrive MNIST .csv data from\n",
    "# https://www.kaggle.com/oddrationale/mnist-in-csv\n",
    "# These files are ~100MB large thus needed to be .gitignored in order to fit GitHub's limitations\n",
    "train_df = CSV.read(joinpath(@__DIR__, \"mnist_train.csv\"), DataFrame);\n",
    "test_df = CSV.read(joinpath(@__DIR__, \"mnist_test.csv\"), DataFrame);"
   ]
  },
  {
   "cell_type": "code",
   "execution_count": 4,
   "metadata": {},
   "outputs": [],
   "source": [
    "# Split Labels and Sample data\n",
    "THRESHOLD = 50\n",
    "\n",
    "TRAIN_MTX = Matrix(train_df);\n",
    "TRAIN_X = string.(TRAIN_MTX[:, 1]);\n",
    "TRAIN_Y = [Vector{Bool}(TRAIN_MTX[i, 2:size(train_df, 2)] .>= THRESHOLD) for i in 1:length(TRAIN_X)];\n",
    "\n",
    "TEST_MTX = Matrix(test_df);\n",
    "TEST_X = string.(TEST_MTX[:, 1]);\n",
    "TEST_Y = [Vector{Bool}(TEST_MTX[i, 2:size(test_df, 2)] .>= THRESHOLD) for i in 1:length(TEST_X)];"
   ]
  },
  {
   "cell_type": "code",
   "execution_count": 23,
   "metadata": {},
   "outputs": [],
   "source": [
    "train(wnn, TRAIN_X, TRAIN_Y)"
   ]
  },
  {
   "cell_type": "code",
   "execution_count": 26,
   "metadata": {},
   "outputs": [
    {
     "ename": "LoadError",
     "evalue": "MethodError: no method matching rate(::WNN{UInt64}, ::Nothing, ::Vector{Bool}; bleach=10)\n\u001b[0mClosest candidates are:\n\u001b[0m  rate(::WNN, \u001b[91m::String\u001b[39m, ::Vector{Bool}; bleach) at C:\\Users\\Pedro\\gits\\WiSARD.jl\\src\\WiSARD.jl:138",
     "output_type": "error",
     "traceback": [
      "MethodError: no method matching rate(::WNN{UInt64}, ::Nothing, ::Vector{Bool}; bleach=10)\n\u001b[0mClosest candidates are:\n\u001b[0m  rate(::WNN, \u001b[91m::String\u001b[39m, ::Vector{Bool}; bleach) at C:\\Users\\Pedro\\gits\\WiSARD.jl\\src\\WiSARD.jl:138",
      "",
      "Stacktrace:",
      "  [1] classify(wnn::WNN{UInt64}, y::Vector{Bool}; bleach::Int64, gamma::Float64)",
      "    @ WiSARD C:\\Users\\Pedro\\gits\\WiSARD.jl\\src\\WiSARD.jl:119",
      "  [2] #6",
      "    @ .\\none:0 [inlined]",
      "  [3] iterate",
      "    @ .\\generator.jl:47 [inlined]",
      "  [4] collect_to!(dest::Vector{String}, itr::Base.Generator{Vector{Vector{Bool}}, WiSARD.var\"#6#7\"{Int64, Float64, WNN{UInt64}}}, offs::Int64, st::Int64)",
      "    @ Base .\\array.jl:728",
      "  [5] collect_to_with_first!",
      "    @ .\\array.jl:706 [inlined]",
      "  [6] collect(itr::Base.Generator{Vector{Vector{Bool}}, WiSARD.var\"#6#7\"{Int64, Float64, WNN{UInt64}}})",
      "    @ Base .\\array.jl:687",
      "  [7] #classify#5",
      "    @ C:\\Users\\Pedro\\gits\\WiSARD.jl\\src\\WiSARD.jl:133 [inlined]",
      "  [8] top-level scope",
      "    @ In[26]:1",
      "  [9] eval",
      "    @ .\\boot.jl:360 [inlined]",
      " [10] include_string(mapexpr::typeof(REPL.softscope), mod::Module, code::String, filename::String)",
      "    @ Base .\\loading.jl:1116"
     ]
    }
   ],
   "source": [
    "TEST_Z = classify(wnn, TEST_Y, bleach=10, gamma=0.5)"
   ]
  },
  {
   "cell_type": "code",
   "execution_count": 18,
   "metadata": {},
   "outputs": [],
   "source": [
    "TEST_W = TEST_Z .== TEST_X;"
   ]
  },
  {
   "cell_type": "code",
   "execution_count": 19,
   "metadata": {},
   "outputs": [
    {
     "name": "stdout",
     "output_type": "stream",
     "text": [
      "Accuracy: 91.09%\n"
     ]
    }
   ],
   "source": [
    "println(\"Accuracy: $(100 * sum(TEST_W) / length(TEST_W))%\")"
   ]
  },
  {
   "cell_type": "code",
   "execution_count": 20,
   "metadata": {},
   "outputs": [],
   "source": [
    "using Plots"
   ]
  }
 ],
 "metadata": {
  "@webio": {
   "lastCommId": null,
   "lastKernelId": null
  },
  "interpreter": {
   "hash": "ac59ebe37160ed0dfa835113d9b8498d9f09ceb179beaac4002f036b9467c963"
  },
  "kernelspec": {
   "display_name": "Julia 1.6.3",
   "language": "julia",
   "name": "julia-1.6"
  },
  "language_info": {
   "file_extension": ".jl",
   "mimetype": "application/julia",
   "name": "julia",
   "version": "1.6.3"
  }
 },
 "nbformat": 4,
 "nbformat_minor": 2
}
