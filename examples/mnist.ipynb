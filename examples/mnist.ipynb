{
 "cells": [
  {
   "cell_type": "code",
   "execution_count": 1,
   "metadata": {},
   "outputs": [
    {
     "name": "stderr",
     "output_type": "stream",
     "text": [
      "┌ Info: Precompiling WiSARD [2b71b7a6-5a26-4a05-9b8d-679d5aa759d4]\n",
      "└ @ Base loading.jl:1342\n"
     ]
    }
   ],
   "source": [
    "# Libraries\n",
    "using WiSARD\n",
    "using DataFrames\n",
    "import CSV"
   ]
  },
  {
   "cell_type": "code",
   "execution_count": 27,
   "metadata": {},
   "outputs": [
    {
     "data": {
      "text/plain": [
       "WNN[32 bits, 28 × 28]"
      ]
     },
     "execution_count": 27,
     "metadata": {},
     "output_type": "execute_result"
    }
   ],
   "source": [
    "wnn = WNN(28, 28)"
   ]
  },
  {
   "cell_type": "code",
   "execution_count": 4,
   "metadata": {},
   "outputs": [],
   "source": [
    "# Retrive MNIST .csv data from\n",
    "# https://www.kaggle.com/oddrationale/mnist-in-csv\n",
    "# These files are ~100MB large thus needed to be .gitignored in order to fit GitHub's limitations\n",
    "train_df = CSV.read(joinpath(@__DIR__, \"mnist_train.csv\"), DataFrame);\n",
    "test_df = CSV.read(joinpath(@__DIR__, \"mnist_test.csv\"), DataFrame);"
   ]
  },
  {
   "cell_type": "code",
   "execution_count": 26,
   "metadata": {},
   "outputs": [],
   "source": [
    "# Split Labels and Sample data\n",
    "THRESHOLD = 50\n",
    "\n",
    "TRAIN_MTX = Matrix(train_df);\n",
    "TRAIN_X = string.(TRAIN_MTX[:, 1]);\n",
    "TRAIN_Y = [Vector{Bool}(TRAIN_MTX[i, 2:size(train_df, 2)] .>= THRESHOLD) for i in 1:length(TRAIN_X)];"
   ]
  },
  {
   "cell_type": "code",
   "execution_count": 28,
   "metadata": {},
   "outputs": [],
   "source": [
    "train(wnn, TRAIN_X, TRAIN_Y)"
   ]
  },
  {
   "cell_type": "code",
   "execution_count": 33,
   "metadata": {},
   "outputs": [],
   "source": [
    "TEST_MTX = Matrix(test_df);\n",
    "TEST_X = string.(TEST_MTX[:, 1]);\n",
    "TEST_Y = [Vector{Bool}(TEST_MTX[i, 2:size(test_df, 2)] .>= THRESHOLD) for i in 1:length(TEST_X)];"
   ]
  },
  {
   "cell_type": "code",
   "execution_count": 30,
   "metadata": {},
   "outputs": [],
   "source": [
    "TEST_Z = [classify(wnn, y) for y in TEST_Y];"
   ]
  },
  {
   "cell_type": "code",
   "execution_count": 31,
   "metadata": {},
   "outputs": [],
   "source": [
    "TEST_W = TEST_Z .== TEST_X;"
   ]
  },
  {
   "cell_type": "code",
   "execution_count": 32,
   "metadata": {},
   "outputs": [
    {
     "name": "stdout",
     "output_type": "stream",
     "text": [
      "Accuracy: 92.03%\n"
     ]
    }
   ],
   "source": [
    "println(\"Accuracy: $(100 * sum(TEST_W) / length(TEST_W))%\")"
   ]
  }
 ],
 "metadata": {
  "interpreter": {
   "hash": "ac59ebe37160ed0dfa835113d9b8498d9f09ceb179beaac4002f036b9467c963"
  },
  "kernelspec": {
   "display_name": "Julia 1.6.3",
   "language": "julia",
   "name": "julia-1.6"
  },
  "language_info": {
   "file_extension": ".jl",
   "mimetype": "application/julia",
   "name": "julia",
   "version": "1.6.3"
  }
 },
 "nbformat": 4,
 "nbformat_minor": 2
}
